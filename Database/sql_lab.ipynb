{
 "cells": [
  {
   "cell_type": "code",
   "execution_count": 1,
   "id": "00246098-94a5-4cb7-be42-f828c2f24da1",
   "metadata": {},
   "outputs": [
    {
     "name": "stdout",
     "output_type": "stream",
     "text": [
      "<class 'pandas.core.frame.DataFrame'>\n",
      "Int64Index: 34169 entries, 0 to 34168\n",
      "Data columns (total 24 columns):\n",
      " #   Column                     Non-Null Count  Dtype         \n",
      "---  ------                     --------------  -----         \n",
      " 0   date_mutation              34169 non-null  datetime64[ns]\n",
      " 1   nature_mutation            34169 non-null  object        \n",
      " 2   valeur_fonciere            34151 non-null  float64       \n",
      " 3   no_voie                    34036 non-null  float64       \n",
      " 4   b/t/q                      2174 non-null   object        \n",
      " 5   code_type_de_voie          34169 non-null  int64         \n",
      " 6   type_de_voie               33229 non-null  object        \n",
      " 7   code_voie                  34169 non-null  object        \n",
      " 8   voie                       34169 non-null  object        \n",
      " 9   code_id_commune            34169 non-null  int64         \n",
      " 10  code_postal                34168 non-null  float64       \n",
      " 11  commune                    34169 non-null  object        \n",
      " 12  code_departement           34169 non-null  object        \n",
      " 13  code_commune               34169 non-null  int64         \n",
      " 14  section                    34168 non-null  object        \n",
      " 15  no_plan                    34169 non-null  int64         \n",
      " 16  no_volume                  0 non-null      float64       \n",
      " 17  1er_lot                    34169 non-null  object        \n",
      " 18  surface_carrez_du_1er_lot  34169 non-null  float64       \n",
      " 19  nombre_de_lots             34169 non-null  int64         \n",
      " 20  code_type_local            34169 non-null  int64         \n",
      " 21  type_local                 34169 non-null  object        \n",
      " 22  surface_reelle_bati        34169 non-null  int64         \n",
      " 23  nombre_pieces_principales  34169 non-null  int64         \n",
      "dtypes: datetime64[ns](1), float64(5), int64(8), object(10)\n",
      "memory usage: 6.5+ MB\n"
     ]
    },
    {
     "name": "stderr",
     "output_type": "stream",
     "text": [
      "C:\\ProgramData\\Anaconda3\\lib\\site-packages\\openpyxl\\worksheet\\_reader.py:312: UserWarning: Unknown extension is not supported and will be removed\n",
      "  warn(msg)\n"
     ]
    }
   ],
   "source": [
    "#-----------------------------------------------------\n",
    "# SQL_jupyterlab to create databases\n",
    "# next update :\n",
    "# => add function when selecting df.index\n",
    "# => put all functions in a file.py\n",
    "# => write a script to populate tables automatically\n",
    "# => add sys.agrv for csv_file_call\n",
    "#-----------------------------------------------------\n",
    "\n",
    "import pandas as pd\n",
    "import numpy as np\n",
    "\n",
    "# load data and drop duplicates\n",
    "df = pd.read_excel(\"immobilier.xlsx\")\n",
    "df = df.drop_duplicates()\n",
    "\n",
    "# formatting attributibuts\n",
    "df.columns = [i.replace(' ', '_').lower() for i in df.columns]\n",
    "df.info()"
   ]
  },
  {
   "cell_type": "code",
   "execution_count": 9,
   "id": "9460f184-ff33-4b4f-84e8-049d3fbecc42",
   "metadata": {},
   "outputs": [
    {
     "name": "stdout",
     "output_type": "stream",
     "text": [
      "table 'logement': \n",
      " ['no_voie', 'type_de_voie', 'code_voie', 'voie', 'commune'] \n",
      "\n",
      "table 'vente': \n",
      " ['date_mutation', 'valeur_fonciere', 'code_id_commune', 'commune', 'code_departement', 'surface_carrez_du_1er_lot', 'type_local', 'nombre_pieces_principales']\n"
     ]
    }
   ],
   "source": [
    "# select manually all attributs by index required in logement_table\n",
    "logement_attribut = list(df.columns[sorted([3, 6, 7, 8, 11])])\n",
    "print(\"table 'logement':\", \"\\n\", logement_attribut, \"\\n\")\n",
    "\n",
    "# select manually all attributs by index required in vente_table\n",
    "vente_attribut = list(df.columns[sorted([0, 2, 18, 23, 21, 9, 11, 12])])\n",
    "print(\"table 'vente':\", \"\\n\", vente_attribut)\n",
    "\n",
    "# define dict of table_attributs\n",
    "table_dict = {\"vente\" : vente_attribut,\n",
    "              \"logement\" : logement_attribut\n",
    "             }"
   ]
  },
  {
   "cell_type": "code",
   "execution_count": 10,
   "id": "101ccb4a-6b47-4f5f-8275-b78f9dab2898",
   "metadata": {},
   "outputs": [
    {
     "data": {
      "text/plain": [
       "[{'Table': 'vente', 'Column': 'date_mutation', 'data_type': dtype('<M8[ns]')},\n",
       " {'Table': 'vente',\n",
       "  'Column': 'valeur_fonciere',\n",
       "  'data_type': dtype('float64')},\n",
       " {'Table': 'vente', 'Column': 'code_id_commune', 'data_type': dtype('int64')},\n",
       " {'Table': 'vente', 'Column': 'commune', 'data_type': dtype('O')},\n",
       " {'Table': 'vente', 'Column': 'code_departement', 'data_type': dtype('O')},\n",
       " {'Table': 'vente',\n",
       "  'Column': 'surface_carrez_du_1er_lot',\n",
       "  'data_type': dtype('float64')},\n",
       " {'Table': 'vente', 'Column': 'type_local', 'data_type': dtype('O')},\n",
       " {'Table': 'vente',\n",
       "  'Column': 'nombre_pieces_principales',\n",
       "  'data_type': dtype('int64')},\n",
       " {'Table': 'logement', 'Column': 'no_voie', 'data_type': dtype('float64')},\n",
       " {'Table': 'logement', 'Column': 'type_de_voie', 'data_type': dtype('O')},\n",
       " {'Table': 'logement', 'Column': 'code_voie', 'data_type': dtype('O')},\n",
       " {'Table': 'logement', 'Column': 'voie', 'data_type': dtype('O')},\n",
       " {'Table': 'logement', 'Column': 'commune', 'data_type': dtype('O')}]"
      ]
     },
     "execution_count": 10,
     "metadata": {},
     "output_type": "execute_result"
    }
   ],
   "source": [
    "# tables_dict to save to tables.csv\n",
    "to_csv = []\n",
    "\n",
    "def define_table_list(table_dict):\n",
    "    for key, values in table_dict.items():\n",
    "        for value in values:\n",
    "            template = {\"Table\": key, \n",
    "                        \"Column\": value,\n",
    "                        \"data_type\": df[value].dtypes\n",
    "                       }\n",
    "            to_csv.append(template)\n",
    "    return to_csv"
   ]
  },
  {
   "cell_type": "code",
   "execution_count": 6,
   "id": "baa6b081-e11f-41f1-99e1-3eef7fdbf0cf",
   "metadata": {},
   "outputs": [
    {
     "data": {
      "text/plain": [
       "'Dictionnary saved to csv successfully'"
      ]
     },
     "execution_count": 6,
     "metadata": {},
     "output_type": "execute_result"
    }
   ],
   "source": [
    "from csv_tools import dict_to_csv\n",
    "\n",
    "dict_to_csv(to_csv, \"tables.csv\")"
   ]
  },
  {
   "cell_type": "code",
   "execution_count": 7,
   "id": "44539d7c-3d31-49b1-9c24-c14eff47c162",
   "metadata": {},
   "outputs": [
    {
     "name": "stdout",
     "output_type": "stream",
     "text": [
      "metadata_obj is online\n",
      "Tables creation successful\n",
      "Columns added to Tables successfully \n",
      "\n",
      "metadata_obj : \n",
      "\n",
      "Table : vente ; Column : vente_id\n",
      "Table : vente ; Column : date_mutation\n",
      "Table : vente ; Column : valeur_fonciere\n",
      "Table : vente ; Column : code_id_commune\n",
      "Table : vente ; Column : commune\n",
      "Table : vente ; Column : code_departement\n",
      "Table : vente ; Column : surface_carrez_du_1er_lot\n",
      "Table : vente ; Column : type_local\n",
      "Table : vente ; Column : nombre_pieces_principales\n",
      "Table : logement ; Column : logement_id\n",
      "Table : logement ; Column : no_voie\n",
      "Table : logement ; Column : type_de_voie\n",
      "Table : logement ; Column : code_voie\n",
      "Table : logement ; Column : voie\n",
      "Table : logement ; Column : commune\n"
     ]
    }
   ],
   "source": [
    "%run table_generator.py"
   ]
  },
  {
   "cell_type": "code",
   "execution_count": 8,
   "id": "6c9641bd-6e37-40c6-bddc-c63f9db8d980",
   "metadata": {},
   "outputs": [],
   "source": [
    "metadata_obj.clear()"
   ]
  },
  {
   "cell_type": "code",
   "execution_count": null,
   "id": "73e75189-f095-47e9-adb4-1d47d5acf88c",
   "metadata": {},
   "outputs": [],
   "source": [
    "# next update => populate tables"
   ]
  }
 ],
 "metadata": {
  "kernelspec": {
   "display_name": "Python 3 (ipykernel)",
   "language": "python",
   "name": "python3"
  },
  "language_info": {
   "codemirror_mode": {
    "name": "ipython",
    "version": 3
   },
   "file_extension": ".py",
   "mimetype": "text/x-python",
   "name": "python",
   "nbconvert_exporter": "python",
   "pygments_lexer": "ipython3",
   "version": "3.9.12"
  }
 },
 "nbformat": 4,
 "nbformat_minor": 5
}
