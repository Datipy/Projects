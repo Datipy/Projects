{
 "cells": [
  {
   "cell_type": "code",
   "execution_count": 1,
   "id": "7582b231-8c98-474c-b838-7053365b624d",
   "metadata": {},
   "outputs": [
    {
     "name": "stdout",
     "output_type": "stream",
     "text": [
      "['db_close_connection', 'db_execute_query', 'db_show']\n"
     ]
    }
   ],
   "source": [
    "from My_db_connector import My_db_connector\n",
    "\n",
    "# all methods of My_db_connector\n",
    "method_list = [method for method in dir(My_db_connector) if method.startswith('__') is False]\n",
    "print(method_list)"
   ]
  },
  {
   "cell_type": "code",
   "execution_count": 2,
   "id": "8126c608-28d2-4500-92e2-88fb1b929aa8",
   "metadata": {},
   "outputs": [
    {
     "name": "stdout",
     "output_type": "stream",
     "text": [
      "Connection to 'immobilier' database successful\n"
     ]
    }
   ],
   "source": [
    "# establish connection with database\n",
    "connector = My_db_connector(\"immobilier\")"
   ]
  },
  {
   "cell_type": "code",
   "execution_count": 3,
   "id": "ecbd6b1f-d068-47a3-8faa-6f469899dfad",
   "metadata": {},
   "outputs": [
    {
     "data": {
      "text/html": [
       "<div>\n",
       "<style scoped>\n",
       "    .dataframe tbody tr th:only-of-type {\n",
       "        vertical-align: middle;\n",
       "    }\n",
       "\n",
       "    .dataframe tbody tr th {\n",
       "        vertical-align: top;\n",
       "    }\n",
       "\n",
       "    .dataframe thead th {\n",
       "        text-align: right;\n",
       "    }\n",
       "</style>\n",
       "<table border=\"1\" class=\"dataframe\">\n",
       "  <thead>\n",
       "    <tr style=\"text-align: right;\">\n",
       "      <th></th>\n",
       "      <th>name</th>\n",
       "    </tr>\n",
       "  </thead>\n",
       "  <tbody>\n",
       "    <tr>\n",
       "      <th>0</th>\n",
       "      <td>vente</td>\n",
       "    </tr>\n",
       "    <tr>\n",
       "      <th>1</th>\n",
       "      <td>logement</td>\n",
       "    </tr>\n",
       "  </tbody>\n",
       "</table>\n",
       "</div>"
      ],
      "text/plain": [
       "       name\n",
       "0     vente\n",
       "1  logement"
      ]
     },
     "execution_count": 3,
     "metadata": {},
     "output_type": "execute_result"
    }
   ],
   "source": [
    "# show all the tables in database\n",
    "connector.db_show()"
   ]
  },
  {
   "cell_type": "code",
   "execution_count": 4,
   "id": "85990c6e-d2e5-4723-803a-90bdf8d97ee1",
   "metadata": {},
   "outputs": [
    {
     "data": {
      "text/html": [
       "<div>\n",
       "<style scoped>\n",
       "    .dataframe tbody tr th:only-of-type {\n",
       "        vertical-align: middle;\n",
       "    }\n",
       "\n",
       "    .dataframe tbody tr th {\n",
       "        vertical-align: top;\n",
       "    }\n",
       "\n",
       "    .dataframe thead th {\n",
       "        text-align: right;\n",
       "    }\n",
       "</style>\n",
       "<table border=\"1\" class=\"dataframe\">\n",
       "  <thead>\n",
       "    <tr style=\"text-align: right;\">\n",
       "      <th></th>\n",
       "      <th>percentage_difference_prix_appartement_2_vs_3</th>\n",
       "    </tr>\n",
       "  </thead>\n",
       "  <tbody>\n",
       "    <tr>\n",
       "      <th>0</th>\n",
       "      <td>12.52</td>\n",
       "    </tr>\n",
       "  </tbody>\n",
       "</table>\n",
       "</div>"
      ],
      "text/plain": [
       "   percentage_difference_prix_appartement_2_vs_3\n",
       "0                                          12.52"
      ]
     },
     "execution_count": 4,
     "metadata": {},
     "output_type": "execute_result"
    }
   ],
   "source": [
    "# query example for this request :\n",
    "# \"Différence en pourcentage du prix au mètre carré entre un\n",
    "#  appartement de 2 pièces et un appartement de 3 pièces.\"\n",
    "\n",
    "query = \"WITH appart3 AS (SELECT round(SUM(valeur_fonciere)/SUM(surface_carrez_du_1er_lot),2) \\\n",
    "    AS metre2_appart3 \\\n",
    "    FROM vente WHERE type_local like '%Appartement%' AND nombre_pieces_principales = 3), \\\n",
    "    \\\n",
    "    appart2 AS (SELECT round(SUM(valeur_fonciere)/SUM(surface_carrez_du_1er_lot),2) \\\n",
    "    AS metre2_appart2 \\\n",
    "    FROM vente \\\n",
    "    WHERE type_local like '%Appartement%' AND nombre_pieces_principales = 2) \\\n",
    "    \\\n",
    "    SELECT round((1.0 - metre2_appart3 / metre2_appart2)*100,2) \\\n",
    "    AS pourcentage_difference_prix_appartement_2_vs_3 \\\n",
    "    FROM appart2, appart3\"\n",
    "\n",
    "result = connector.db_execute_query(query)\n",
    "result"
   ]
  },
  {
   "cell_type": "code",
   "execution_count": 5,
   "id": "3b7c0dfe-faaf-4e31-a762-afdef6e5e3a3",
   "metadata": {},
   "outputs": [
    {
     "data": {
      "text/plain": [
       "\"Connection to 'immobilier' database closed successful\""
      ]
     },
     "execution_count": 5,
     "metadata": {},
     "output_type": "execute_result"
    }
   ],
   "source": [
    "# close connection \n",
    "connector.db_close_connection()"
   ]
  },
  {
   "cell_type": "code",
   "execution_count": null,
   "id": "4e6d1b72-9dcb-429c-a7b8-98a8d1922a8e",
   "metadata": {},
   "outputs": [],
   "source": []
  }
 ],
 "metadata": {
  "kernelspec": {
   "display_name": "Python 3 (ipykernel)",
   "language": "python",
   "name": "python3"
  },
  "language_info": {
   "codemirror_mode": {
    "name": "ipython",
    "version": 3
   },
   "file_extension": ".py",
   "mimetype": "text/x-python",
   "name": "python",
   "nbconvert_exporter": "python",
   "pygments_lexer": "ipython3",
   "version": "3.9.12"
  }
 },
 "nbformat": 4,
 "nbformat_minor": 5
}
