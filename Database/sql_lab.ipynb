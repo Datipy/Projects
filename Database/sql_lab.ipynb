{
 "cells": [
  {
   "cell_type": "code",
   "execution_count": 1,
   "id": "00246098-94a5-4cb7-be42-f828c2f24da1",
   "metadata": {},
   "outputs": [
    {
     "name": "stdout",
     "output_type": "stream",
     "text": [
      "<class 'pandas.core.frame.DataFrame'>\n",
      "Int64Index: 34169 entries, 0 to 34168\n",
      "Data columns (total 24 columns):\n",
      " #   Column                     Non-Null Count  Dtype         \n",
      "---  ------                     --------------  -----         \n",
      " 0   date_mutation              34169 non-null  datetime64[ns]\n",
      " 1   nature_mutation            34169 non-null  object        \n",
      " 2   valeur_fonciere            34151 non-null  float64       \n",
      " 3   no_voie                    34036 non-null  float64       \n",
      " 4   b/t/q                      2174 non-null   object        \n",
      " 5   code_type_de_voie          34169 non-null  int64         \n",
      " 6   type_de_voie               33229 non-null  object        \n",
      " 7   code_voie                  34169 non-null  object        \n",
      " 8   voie                       34169 non-null  object        \n",
      " 9   code_id_commune            34169 non-null  int64         \n",
      " 10  code_postal                34168 non-null  float64       \n",
      " 11  commune                    34169 non-null  object        \n",
      " 12  code_departement           34169 non-null  object        \n",
      " 13  code_commune               34169 non-null  int64         \n",
      " 14  section                    34168 non-null  object        \n",
      " 15  no_plan                    34169 non-null  int64         \n",
      " 16  no_volume                  0 non-null      float64       \n",
      " 17  1er_lot                    34169 non-null  object        \n",
      " 18  surface_carrez_du_1er_lot  34169 non-null  float64       \n",
      " 19  nombre_de_lots             34169 non-null  int64         \n",
      " 20  code_type_local            34169 non-null  int64         \n",
      " 21  type_local                 34169 non-null  object        \n",
      " 22  surface_reelle_bati        34169 non-null  int64         \n",
      " 23  nombre_pieces_principales  34169 non-null  int64         \n",
      "dtypes: datetime64[ns](1), float64(5), int64(8), object(10)\n",
      "memory usage: 6.5+ MB\n"
     ]
    },
    {
     "name": "stderr",
     "output_type": "stream",
     "text": [
      "C:\\ProgramData\\Anaconda3\\lib\\site-packages\\openpyxl\\worksheet\\_reader.py:312: UserWarning: Unknown extension is not supported and will be removed\n",
      "  warn(msg)\n"
     ]
    }
   ],
   "source": [
    "#-----------------------------------------------------\n",
    "# SQL_jupyterlab to create databases\n",
    "# next update :\n",
    "# => add function when selecting df.index\n",
    "# => put all functions in a file.py\n",
    "# => write a script to populate tables automatically\n",
    "# => add sys.agrv for csv_file_call\n",
    "#-----------------------------------------------------\n",
    "\n",
    "import pandas as pd\n",
    "\n",
    "# load data and drop duplicates\n",
    "df = pd.read_excel(\"immobilier.xlsx\")\n",
    "df = df.drop_duplicates()\n",
    "\n",
    "# formatting columns\n",
    "df.columns = [i.replace(' ', '_').lower() for i in df.columns]\n",
    "df.info()"
   ]
  },
  {
   "cell_type": "code",
   "execution_count": 2,
   "id": "9460f184-ff33-4b4f-84e8-049d3fbecc42",
   "metadata": {},
   "outputs": [
    {
     "name": "stdout",
     "output_type": "stream",
     "text": [
      "vente :\n",
      "['date_mutation', 'nature_mutation', 'valeur_fonciere'] \n",
      "\n",
      "logement :\n",
      "['section', 'no_plan', 'no_volume', '1er_lot', 'surface_carrez_du_1er_lot', 'nombre_de_lots', 'code_type_local', 'type_local', 'surface_reelle_bati', 'nombre_pieces_principales'] \n",
      "\n",
      "adresse :\n",
      "['no_voie', 'b/t/q', 'code_type_de_voie', 'type_de_voie', 'code_voie', 'voie', 'code_id_commune', 'code_postal', 'commune', 'code_departement', 'code_commune'] \n",
      "\n"
     ]
    }
   ],
   "source": [
    "# select manually all columns by index required in vente_table\n",
    "vente_columns = list(df.columns[:3])\n",
    "\n",
    "# select manually all columns by index required in adresse_table\n",
    "adresse_columns = list(df.columns[3:14])\n",
    "\n",
    "# select manually all columns by index required in vente_table\n",
    "logement_columns = list(df.columns[14:])\n",
    "\n",
    "# define dict of table_columns\n",
    "table_dict = {\"vente\" : vente_columns,\n",
    "              \"logement\" : logement_columns,\n",
    "              \"adresse\" : adresse_columns\n",
    "             }\n",
    "for key, item in table_dict.items():\n",
    "    print(key, \":\")\n",
    "    print(item, \"\\n\")\n",
    "\n",
    "# table w referenced_by u, v \n",
    "# => {w:[u, v]}\n",
    "ref_dict = {\"vente\" : [\"logement\"], \n",
    "            \"logement\" : [\"adresse\"]\n",
    "           }"
   ]
  },
  {
   "cell_type": "code",
   "execution_count": 3,
   "id": "101ccb4a-6b47-4f5f-8275-b78f9dab2898",
   "metadata": {},
   "outputs": [],
   "source": [
    "# tables_dict to save to tables.csv\n",
    "\n",
    "def define_table_list(table_dict):\n",
    "    to_csv = []\n",
    "    \n",
    "    for key, values in table_dict.items():\n",
    "        for value in values:\n",
    "            template = {\"Table\": key, \n",
    "                        \"columns\": value,\n",
    "                        \"data_type\": df[value].dtypes\n",
    "                       }\n",
    "            to_csv.append(template)\n",
    "    return to_csv\n",
    "\n",
    "def define_reference_list(ref_dict):\n",
    "    to_csv = []\n",
    "    \n",
    "    for key, values in ref_dict.items():\n",
    "        for value in values:\n",
    "            template = {\"table\": key, \n",
    "                        \"referenced_by\": value,\n",
    "                       }\n",
    "            to_csv.append(template)\n",
    "    return to_csv"
   ]
  },
  {
   "cell_type": "code",
   "execution_count": 11,
   "id": "c27f8b67-e51f-4311-b461-7c493ee29179",
   "metadata": {},
   "outputs": [
    {
     "data": {
      "text/plain": [
       "'Dictionnary saved to csv successfully'"
      ]
     },
     "execution_count": 11,
     "metadata": {},
     "output_type": "execute_result"
    }
   ],
   "source": [
    "from csv_tools import dict_to_csv\n",
    "\n",
    "# save table_dict to csv\n",
    "to_csv = define_table_list(table_dict)\n",
    "dict_to_csv(to_csv, \"tables.csv\")\n",
    "\n",
    "# save ref_dict to csv\n",
    "to_csv = define_reference_list(ref_dict)\n",
    "dict_to_csv(to_csv, \"references.csv\")"
   ]
  },
  {
   "cell_type": "code",
   "execution_count": 12,
   "id": "44539d7c-3d31-49b1-9c24-c14eff47c162",
   "metadata": {},
   "outputs": [
    {
     "name": "stdout",
     "output_type": "stream",
     "text": [
      "metadata_obj is online\n",
      "Tables creation successful\n",
      "Columns added to Tables successfully \n",
      "\n",
      "metadata_obj : \n",
      "\n",
      "Table : logement ; Column : id\n",
      "Table : logement ; Column : section\n",
      "Table : logement ; Column : no_plan\n",
      "Table : logement ; Column : no_volume\n",
      "Table : logement ; Column : 1er_lot\n",
      "Table : logement ; Column : surface_carrez_du_1er_lot\n",
      "Table : logement ; Column : nombre_de_lots\n",
      "Table : logement ; Column : code_type_local\n",
      "Table : logement ; Column : type_local\n",
      "Table : logement ; Column : surface_reelle_bati\n",
      "Table : logement ; Column : nombre_pieces_principales\n",
      "Table : logement ; Column : adresse_id\n",
      "Table : vente ; Column : id\n",
      "Table : vente ; Column : date_mutation\n",
      "Table : vente ; Column : nature_mutation\n",
      "Table : vente ; Column : valeur_fonciere\n",
      "Table : vente ; Column : logement_id\n",
      "Table : adresse ; Column : id\n",
      "Table : adresse ; Column : no_voie\n",
      "Table : adresse ; Column : b/t/q\n",
      "Table : adresse ; Column : code_type_de_voie\n",
      "Table : adresse ; Column : type_de_voie\n",
      "Table : adresse ; Column : code_voie\n",
      "Table : adresse ; Column : voie\n",
      "Table : adresse ; Column : code_id_commune\n",
      "Table : adresse ; Column : code_postal\n",
      "Table : adresse ; Column : commune\n",
      "Table : adresse ; Column : code_departement\n",
      "Table : adresse ; Column : code_commune\n"
     ]
    }
   ],
   "source": [
    "%run tables_generator.py"
   ]
  },
  {
   "cell_type": "code",
   "execution_count": 18,
   "id": "73e75189-f095-47e9-adb4-1d47d5acf88c",
   "metadata": {},
   "outputs": [],
   "source": [
    "from sqlalchemy import create_engine\n",
    "\n",
    "# connect to immobilier_db\n",
    "engine = create_engine('sqlite:///immobilier.db', echo = True)\n",
    "connection = engine.connect()"
   ]
  },
  {
   "cell_type": "code",
   "execution_count": 19,
   "id": "5bc2cf3f-ae57-428b-ace5-b89f092eb03c",
   "metadata": {},
   "outputs": [
    {
     "name": "stdout",
     "output_type": "stream",
     "text": [
      "2022-10-17 19:38:36,769 INFO sqlalchemy.engine.Engine BEGIN (implicit)\n",
      "2022-10-17 19:38:36,769 INFO sqlalchemy.engine.Engine PRAGMA main.table_info(\"logement\")\n",
      "2022-10-17 19:38:36,770 INFO sqlalchemy.engine.Engine [raw sql] ()\n",
      "2022-10-17 19:38:36,770 INFO sqlalchemy.engine.Engine PRAGMA temp.table_info(\"logement\")\n",
      "2022-10-17 19:38:36,770 INFO sqlalchemy.engine.Engine [raw sql] ()\n",
      "2022-10-17 19:38:36,771 INFO sqlalchemy.engine.Engine PRAGMA main.table_info(\"vente\")\n",
      "2022-10-17 19:38:36,771 INFO sqlalchemy.engine.Engine [raw sql] ()\n",
      "2022-10-17 19:38:36,771 INFO sqlalchemy.engine.Engine PRAGMA temp.table_info(\"vente\")\n",
      "2022-10-17 19:38:36,771 INFO sqlalchemy.engine.Engine [raw sql] ()\n",
      "2022-10-17 19:38:36,772 INFO sqlalchemy.engine.Engine PRAGMA main.table_info(\"adresse\")\n",
      "2022-10-17 19:38:36,772 INFO sqlalchemy.engine.Engine [raw sql] ()\n",
      "2022-10-17 19:38:36,772 INFO sqlalchemy.engine.Engine PRAGMA temp.table_info(\"adresse\")\n",
      "2022-10-17 19:38:36,773 INFO sqlalchemy.engine.Engine [raw sql] ()\n",
      "2022-10-17 19:38:36,773 INFO sqlalchemy.engine.Engine \n",
      "CREATE TABLE adresse (\n",
      "\tid INTEGER NOT NULL, \n",
      "\tno_voie FLOAT, \n",
      "\t\"b/t/q\" VARCHAR, \n",
      "\tcode_type_de_voie INTEGER, \n",
      "\ttype_de_voie VARCHAR, \n",
      "\tcode_voie VARCHAR, \n",
      "\tvoie VARCHAR, \n",
      "\tcode_id_commune INTEGER, \n",
      "\tcode_postal FLOAT, \n",
      "\tcommune VARCHAR, \n",
      "\tcode_departement VARCHAR, \n",
      "\tcode_commune INTEGER, \n",
      "\tPRIMARY KEY (id)\n",
      ")\n",
      "\n",
      "\n",
      "2022-10-17 19:38:36,773 INFO sqlalchemy.engine.Engine [no key 0.00021s] ()\n",
      "2022-10-17 19:38:36,786 INFO sqlalchemy.engine.Engine \n",
      "CREATE TABLE logement (\n",
      "\tid INTEGER NOT NULL, \n",
      "\tsection VARCHAR, \n",
      "\tno_plan INTEGER, \n",
      "\tno_volume FLOAT, \n",
      "\t\"1er_lot\" VARCHAR, \n",
      "\tsurface_carrez_du_1er_lot FLOAT, \n",
      "\tnombre_de_lots INTEGER, \n",
      "\tcode_type_local INTEGER, \n",
      "\ttype_local VARCHAR, \n",
      "\tsurface_reelle_bati INTEGER, \n",
      "\tnombre_pieces_principales INTEGER, \n",
      "\tadresse_id INTEGER, \n",
      "\tPRIMARY KEY (id), \n",
      "\tFOREIGN KEY(adresse_id) REFERENCES adresse (id)\n",
      ")\n",
      "\n",
      "\n",
      "2022-10-17 19:38:36,786 INFO sqlalchemy.engine.Engine [no key 0.00047s] ()\n",
      "2022-10-17 19:38:36,791 INFO sqlalchemy.engine.Engine \n",
      "CREATE TABLE vente (\n",
      "\tid INTEGER NOT NULL, \n",
      "\tdate_mutation DATETIME, \n",
      "\tnature_mutation VARCHAR, \n",
      "\tvaleur_fonciere FLOAT, \n",
      "\tlogement_id INTEGER, \n",
      "\tPRIMARY KEY (id), \n",
      "\tFOREIGN KEY(logement_id) REFERENCES logement (id)\n",
      ")\n",
      "\n",
      "\n",
      "2022-10-17 19:38:36,791 INFO sqlalchemy.engine.Engine [no key 0.00029s] ()\n",
      "2022-10-17 19:38:36,795 INFO sqlalchemy.engine.Engine COMMIT\n"
     ]
    }
   ],
   "source": [
    "# create all tables in metadata_obj\n",
    "metadata_obj.create_all(engine)"
   ]
  },
  {
   "cell_type": "code",
   "execution_count": 20,
   "id": "efc8e285-6f38-44fe-92f7-89aa42121277",
   "metadata": {},
   "outputs": [
    {
     "name": "stdout",
     "output_type": "stream",
     "text": [
      "2022-10-17 19:38:40,046 INFO sqlalchemy.engine.Engine INSERT INTO vente (date_mutation, nature_mutation, valeur_fonciere) VALUES (?, ?, ?)\n",
      "2022-10-17 19:38:40,047 INFO sqlalchemy.engine.Engine [generated in 0.09801s] (('2020-02-03 00:00:00.000000', 'Vente', 56000.0), ('2020-01-02 00:00:00.000000', 'Vente', 165000.0), ('2020-01-08 00:00:00.000000', 'Vente', 720000.0), ('2020-01-06 00:00:00.000000', 'Vente', 429250.0), ('2020-01-07 00:00:00.000000', 'Vente', 220900.0), ('2020-01-21 00:00:00.000000', 'Vente', 42000.0), ('2020-01-07 00:00:00.000000', 'Vente', 262000.0), ('2020-01-08 00:00:00.000000', 'Vente', 190000.0)  ... displaying 10 of 34169 total bound parameter sets ...  ('2020-06-25 00:00:00.000000', 'Vente', 725000.0), ('2020-06-11 00:00:00.000000', 'Vente', 433000.0))\n",
      "2022-10-17 19:38:40,089 INFO sqlalchemy.engine.Engine COMMIT\n",
      "\n",
      "\n",
      "2022-10-17 19:38:41,958 INFO sqlalchemy.engine.Engine INSERT INTO logement (section, no_plan, no_volume, \"1er_lot\", surface_carrez_du_1er_lot, nombre_de_lots, code_type_local, type_local, surface_reelle_bati, nombre_pieces_principales) VALUES (?, ?, ?, ?, ?, ?, ?, ?, ?, ?)\n",
      "2022-10-17 19:38:41,959 INFO sqlalchemy.engine.Engine [generated in 0.10381s] (('B', 1478, nan, 22, 50.42, 1, 2, 'Appartement', 52, 2), ('A', 302, nan, 12, 48.22, 2, 2, 'Appartement', 48, 3), ('AK', 563, nan, 146, 130.8, 2, 2, 'Appartement', 130, 6), ('C', 2307, nan, 11, 109.22, 1, 1, 'Maison', 109, 5), ('AE', 440, nan, 31, 108.65, 2, 2, 'Appartement', 91, 4), ('AP', 357, nan, 50, 31.65, 1, 2, 'Appartement', 32, 2), ('BH', 79, nan, 11, 52.58, 1, 2, 'Appartement', 52, 2), ('AX', 8, nan, 304, 58.71, 1, 2, 'Appartement', 60, 2)  ... displaying 10 of 34169 total bound parameter sets ...  ('AM', 67, nan, 89, 56.8, 1, 2, 'Appartement', 48, 3), ('AI', 34, nan, 53, 35.44, 1, 2, 'Appartement', 33, 1))\n",
      "2022-10-17 19:38:42,067 INFO sqlalchemy.engine.Engine COMMIT\n",
      "\n",
      "\n",
      "2022-10-17 19:38:43,994 INFO sqlalchemy.engine.Engine INSERT INTO adresse (no_voie, \"b/t/q\", code_type_de_voie, type_de_voie, code_voie, voie, code_id_commune, code_postal, commune, code_departement, code_commune) VALUES (?, ?, ?, ?, ?, ?, ?, ?, ?, ?, ?)\n",
      "2022-10-17 19:38:43,995 INFO sqlalchemy.engine.Engine [generated in 0.16538s] ((190.0, 'A', 0, 'RUE', 5, 'CENTRALE', 0, 1370.0, 'SAINT-ETIENNE-DU-BOIS', '1', 350), (347.0, nan, 0, 'RUE', 20, 'DU CHATEAU', 1, 1170.0, 'CHEVRY', '1', 103), (58.0, nan, 1, 'AV', 527, 'DU MONT BLANC', 2, 1220.0, 'DIVONNE-LES-BAINS', '1', 143), (140.0, nan, 0, 'RUE', 2, \"DE L'ABBE JOLIVET\", 3, 1630.0, 'PERON', '1', 288), (39.0, nan, 0, 'RUE', 110, 'BUFFON', 4, 1200.0, 'VALSERHONE', '1', 33), (28.0, nan, 1, 'AV', 179, 'JEAN FALCONNIER', 5, 1350.0, 'CULOZ', '1', 138), (8.0, nan, 0, 'RUE', 120, 'DE GENEVE', 6, 1630.0, 'ST-GENIS-POUILLY', '1', 354), (2.0, nan, 0, 'RUE', 210, 'DU RECULET', 6, 1630.0, 'ST-GENIS-POUILLY', '1', 354)  ... displaying 10 of 30793 total bound parameter sets ...  (99.0, nan, 1, 'AV', 8158, 'DE LA REPUBLIQUE', 3203, 75011.0, 'PARIS 11', '75', 111), (12.0, nan, 35, 'PAS', 8733, 'ST PIERRE AMELOT', 3203, 75011.0, 'PARIS 11', '75', 111))\n",
      "2022-10-17 19:38:44,079 INFO sqlalchemy.engine.Engine COMMIT\n",
      "\n",
      "\n"
     ]
    }
   ],
   "source": [
    "# flag condition for df.drop_duplicates() condition\n",
    "# different logements can have the same adresse\n",
    "flag_tables = [\"adresse\"]\n",
    "\n",
    "# get sub_dataframe \n",
    "def get_sub_df(table_name):\n",
    "    table_attributs = table_dict[table_name]\n",
    "    sub_df = df.loc[:, table_attributs]\n",
    "    \n",
    "    # flag condition\n",
    "    if table_name in flag_tables:\n",
    "        sub_df = sub_df.drop_duplicates()\n",
    "    else:\n",
    "        pass\n",
    "    return sub_df\n",
    "\n",
    "# populate table from sub_dataframe\n",
    "def populate_tables_from_df(table_dict):\n",
    "    for table_name in table_dict.keys():\n",
    "        # list of all insert statements\n",
    "        ins = []\n",
    "        # select Table object\n",
    "        sql_table = metadata_obj.tables[table_name]\n",
    "        \n",
    "        # iterate for corresponding table’s sub_dataframe\n",
    "        for i in range(len(get_sub_df(table_name))):\n",
    "            # dict to save {column:row_value}\n",
    "            ins_dict = {}\n",
    "            # iterate for columns in sql_table\n",
    "            for column in table_dict[table_name]:\n",
    "                ins_dict[column] = df.loc[i, column]\n",
    "            ins.append(ins_dict)\n",
    "        # execute INSERT sql statement\n",
    "        connection.execute(sql_table.insert(), ins)\n",
    "        print(\"\\n\")\n",
    "        \n",
    "populate_tables_from_df(table_dict)"
   ]
  },
  {
   "cell_type": "code",
   "execution_count": 21,
   "id": "c98f4c4d-789c-40ac-aec2-13fb406ae3cb",
   "metadata": {},
   "outputs": [],
   "source": [
    "connection.close()\n",
    "engine.dispose()"
   ]
  },
  {
   "cell_type": "code",
   "execution_count": null,
   "id": "8f965988-9dc1-43e4-8cd7-4b5edb6c47d4",
   "metadata": {},
   "outputs": [],
   "source": []
  }
 ],
 "metadata": {
  "kernelspec": {
   "display_name": "Python 3 (ipykernel)",
   "language": "python",
   "name": "python3"
  },
  "language_info": {
   "codemirror_mode": {
    "name": "ipython",
    "version": 3
   },
   "file_extension": ".py",
   "mimetype": "text/x-python",
   "name": "python",
   "nbconvert_exporter": "python",
   "pygments_lexer": "ipython3",
   "version": "3.9.12"
  }
 },
 "nbformat": 4,
 "nbformat_minor": 5
}
