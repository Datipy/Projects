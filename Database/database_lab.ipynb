{
 "cells": [
  {
   "cell_type": "code",
   "execution_count": 1,
   "id": "7582b231-8c98-474c-b838-7053365b624d",
   "metadata": {},
   "outputs": [
    {
     "name": "stdout",
     "output_type": "stream",
     "text": [
      "['db_close_connection', 'db_execute_query', 'db_show']\n"
     ]
    }
   ],
   "source": [
    "from My_db_connector import My_db_connector\n",
    "\n",
    "# all methods of My_db_connector\n",
    "method_list = [method for method in dir(My_db_connector) if method.startswith('__') is False]\n",
    "print(method_list)"
   ]
  },
  {
   "cell_type": "code",
   "execution_count": 2,
   "id": "8126c608-28d2-4500-92e2-88fb1b929aa8",
   "metadata": {},
   "outputs": [
    {
     "name": "stdout",
     "output_type": "stream",
     "text": [
      "Connection to 'immobilier' database successful\n"
     ]
    }
   ],
   "source": [
    "# establish connection with database\n",
    "connector = My_db_connector(\"immobilier\")"
   ]
  },
  {
   "cell_type": "code",
   "execution_count": 3,
   "id": "ecbd6b1f-d068-47a3-8faa-6f469899dfad",
   "metadata": {},
   "outputs": [
    {
     "data": {
      "text/html": [
       "<div>\n",
       "<style scoped>\n",
       "    .dataframe tbody tr th:only-of-type {\n",
       "        vertical-align: middle;\n",
       "    }\n",
       "\n",
       "    .dataframe tbody tr th {\n",
       "        vertical-align: top;\n",
       "    }\n",
       "\n",
       "    .dataframe thead th {\n",
       "        text-align: right;\n",
       "    }\n",
       "</style>\n",
       "<table border=\"1\" class=\"dataframe\">\n",
       "  <thead>\n",
       "    <tr style=\"text-align: right;\">\n",
       "      <th></th>\n",
       "      <th>name</th>\n",
       "    </tr>\n",
       "  </thead>\n",
       "  <tbody>\n",
       "    <tr>\n",
       "      <th>0</th>\n",
       "      <td>vente</td>\n",
       "    </tr>\n",
       "    <tr>\n",
       "      <th>1</th>\n",
       "      <td>logement</td>\n",
       "    </tr>\n",
       "  </tbody>\n",
       "</table>\n",
       "</div>"
      ],
      "text/plain": [
       "       name\n",
       "0     vente\n",
       "1  logement"
      ]
     },
     "execution_count": 3,
     "metadata": {},
     "output_type": "execute_result"
    }
   ],
   "source": [
    "# show all the tables in database\n",
    "connector.db_show()"
   ]
  },
  {
   "cell_type": "code",
   "execution_count": 4,
   "id": "85990c6e-d2e5-4723-803a-90bdf8d97ee1",
   "metadata": {},
   "outputs": [
    {
     "data": {
      "text/html": [
       "<div>\n",
       "<style scoped>\n",
       "    .dataframe tbody tr th:only-of-type {\n",
       "        vertical-align: middle;\n",
       "    }\n",
       "\n",
       "    .dataframe tbody tr th {\n",
       "        vertical-align: top;\n",
       "    }\n",
       "\n",
       "    .dataframe thead th {\n",
       "        text-align: right;\n",
       "    }\n",
       "</style>\n",
       "<table border=\"1\" class=\"dataframe\">\n",
       "  <thead>\n",
       "    <tr style=\"text-align: right;\">\n",
       "      <th></th>\n",
       "      <th>count_T1</th>\n",
       "      <th>count_T2</th>\n",
       "      <th>commune</th>\n",
       "      <th>round(count_T2 / count_T1,2)</th>\n",
       "    </tr>\n",
       "  </thead>\n",
       "  <tbody>\n",
       "    <tr>\n",
       "      <th>0</th>\n",
       "      <td>12</td>\n",
       "      <td>54</td>\n",
       "      <td>ABBEVILLE</td>\n",
       "      <td>4.0</td>\n",
       "    </tr>\n",
       "    <tr>\n",
       "      <th>1</th>\n",
       "      <td>30</td>\n",
       "      <td>78</td>\n",
       "      <td>ABLON-SUR-SEINE</td>\n",
       "      <td>2.0</td>\n",
       "    </tr>\n",
       "    <tr>\n",
       "      <th>2</th>\n",
       "      <td>132</td>\n",
       "      <td>270</td>\n",
       "      <td>AGDE</td>\n",
       "      <td>2.0</td>\n",
       "    </tr>\n",
       "    <tr>\n",
       "      <th>3</th>\n",
       "      <td>6</td>\n",
       "      <td>30</td>\n",
       "      <td>AIRE-SUR-L'ADOUR</td>\n",
       "      <td>5.0</td>\n",
       "    </tr>\n",
       "    <tr>\n",
       "      <th>4</th>\n",
       "      <td>6</td>\n",
       "      <td>12</td>\n",
       "      <td>ALENCON</td>\n",
       "      <td>2.0</td>\n",
       "    </tr>\n",
       "    <tr>\n",
       "      <th>...</th>\n",
       "      <td>...</td>\n",
       "      <td>...</td>\n",
       "      <td>...</td>\n",
       "      <td>...</td>\n",
       "    </tr>\n",
       "    <tr>\n",
       "      <th>307</th>\n",
       "      <td>6</td>\n",
       "      <td>12</td>\n",
       "      <td>VINEUIL ST FIRMIN</td>\n",
       "      <td>2.0</td>\n",
       "    </tr>\n",
       "    <tr>\n",
       "      <th>308</th>\n",
       "      <td>18</td>\n",
       "      <td>72</td>\n",
       "      <td>VITRE</td>\n",
       "      <td>4.0</td>\n",
       "    </tr>\n",
       "    <tr>\n",
       "      <th>309</th>\n",
       "      <td>36</td>\n",
       "      <td>84</td>\n",
       "      <td>VOIRON</td>\n",
       "      <td>2.0</td>\n",
       "    </tr>\n",
       "    <tr>\n",
       "      <th>310</th>\n",
       "      <td>12</td>\n",
       "      <td>60</td>\n",
       "      <td>VOREPPE</td>\n",
       "      <td>5.0</td>\n",
       "    </tr>\n",
       "    <tr>\n",
       "      <th>311</th>\n",
       "      <td>6</td>\n",
       "      <td>18</td>\n",
       "      <td>WITRY-LES-REIMS</td>\n",
       "      <td>3.0</td>\n",
       "    </tr>\n",
       "  </tbody>\n",
       "</table>\n",
       "<p>312 rows × 4 columns</p>\n",
       "</div>"
      ],
      "text/plain": [
       "     count_T1  count_T2            commune  round(count_T2 / count_T1,2)\n",
       "0          12        54          ABBEVILLE                           4.0\n",
       "1          30        78    ABLON-SUR-SEINE                           2.0\n",
       "2         132       270               AGDE                           2.0\n",
       "3           6        30   AIRE-SUR-L'ADOUR                           5.0\n",
       "4           6        12            ALENCON                           2.0\n",
       "..        ...       ...                ...                           ...\n",
       "307         6        12  VINEUIL ST FIRMIN                           2.0\n",
       "308        18        72              VITRE                           4.0\n",
       "309        36        84             VOIRON                           2.0\n",
       "310        12        60            VOREPPE                           5.0\n",
       "311         6        18    WITRY-LES-REIMS                           3.0\n",
       "\n",
       "[312 rows x 4 columns]"
      ]
     },
     "execution_count": 4,
     "metadata": {},
     "output_type": "execute_result"
    }
   ],
   "source": [
    "# query example for this request :\n",
    "# \"Différence en pourcentage du prix au mètre carré entre un\n",
    "#  appartement de 2 pièces et un appartement de 3 pièces.\"\n",
    "\n",
    "query = \"WITH t1 AS (SELECT count(date_mutation) AS count_T1, commune FROM vente \\\n",
    "    WHERE DATE_mutation \\\n",
    "    BETWEEN DATE('2020-01-01 00:00:00') \\\n",
    "    AND DATE('2020-04-01 00:00:00') \\\n",
    "    GROUP BY commune), \\\n",
    "    \\\n",
    "    t2 AS (SELECT count(DATE_mutation) \\\n",
    "    AS count_T2, commune FROM vente \\\n",
    "    WHERE date_mutation \\\n",
    "    BETWEEN DATE('2020-04-01 00:00:00') AND DATE('2020-07-01 00:00:00') \\\n",
    "    GROUP BY commune), \\\n",
    "    \\\n",
    "    SELECT count_T1, count_T2, t1.commune, round(count_T2 / count_T1,2) \\\n",
    "    FROM t1 inner join t2 \\\n",
    "    ON t1.commune = t2.commune \\\n",
    "    WHERE (count_T2 / count_T1)*1.0 >= 1.2\"\n",
    "\n",
    "result = connector.db_execute_query(query)\n",
    "result"
   ]
  },
  {
   "cell_type": "code",
   "execution_count": 5,
   "id": "3b7c0dfe-faaf-4e31-a762-afdef6e5e3a3",
   "metadata": {},
   "outputs": [
    {
     "data": {
      "text/plain": [
       "\"Connection to 'immobilier' database closed successful\""
      ]
     },
     "execution_count": 5,
     "metadata": {},
     "output_type": "execute_result"
    }
   ],
   "source": [
    "# close connection \n",
    "connector.db_close_connection()"
   ]
  },
  {
   "cell_type": "code",
   "execution_count": null,
   "id": "4e6d1b72-9dcb-429c-a7b8-98a8d1922a8e",
   "metadata": {},
   "outputs": [],
   "source": []
  }
 ],
 "metadata": {
  "kernelspec": {
   "display_name": "Python 3 (ipykernel)",
   "language": "python",
   "name": "python3"
  },
  "language_info": {
   "codemirror_mode": {
    "name": "ipython",
    "version": 3
   },
   "file_extension": ".py",
   "mimetype": "text/x-python",
   "name": "python",
   "nbconvert_exporter": "python",
   "pygments_lexer": "ipython3",
   "version": "3.9.12"
  }
 },
 "nbformat": 4,
 "nbformat_minor": 5
}
