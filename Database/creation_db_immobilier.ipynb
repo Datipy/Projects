{
 "cells": [
  {
   "cell_type": "code",
   "execution_count": 1,
   "id": "2794cf3d-d1de-42f4-a3b5-3b925c84b5ab",
   "metadata": {},
   "outputs": [
    {
     "name": "stderr",
     "output_type": "stream",
     "text": [
      "C:\\ProgramData\\Anaconda3\\lib\\site-packages\\openpyxl\\worksheet\\_reader.py:312: UserWarning: Unknown extension is not supported and will be removed\n",
      "  warn(msg)\n"
     ]
    }
   ],
   "source": [
    "#----------------------------------------------------------\n",
    "# Notebook to create database \"immobilier\" from excel file\n",
    "#\n",
    "# Upgrades :\n",
    "# => code SQLalchemy class to automate table creation\n",
    "# => automate key generation between tables\n",
    "#----------------------------------------------------------\n",
    "\n",
    "from My_db_connector import My_db_connector\n",
    "import sqlite3 as sql\n",
    "import pandas as pd\n",
    "import numpy as np\n",
    "\n",
    "# load data and drop duplicates\n",
    "df = pd.read_excel(\"immobilier.xlsx\")\n",
    "df = df.drop_duplicates()\n",
    "\n",
    "# formatting attributs\n",
    "df.columns = [i.replace(' ', '_').lower() for i in df.columns]"
   ]
  },
  {
   "cell_type": "code",
   "execution_count": 2,
   "id": "52dd63c5-ab6e-4ac4-bcb4-1f3a28e0a8f0",
   "metadata": {},
   "outputs": [
    {
     "name": "stdout",
     "output_type": "stream",
     "text": [
      "<class 'pandas.core.frame.DataFrame'>\n",
      "Int64Index: 34169 entries, 0 to 34168\n",
      "Data columns (total 24 columns):\n",
      " #   Column                     Non-Null Count  Dtype         \n",
      "---  ------                     --------------  -----         \n",
      " 0   date_mutation              34169 non-null  datetime64[ns]\n",
      " 1   nature_mutation            34169 non-null  object        \n",
      " 2   valeur_fonciere            34151 non-null  float64       \n",
      " 3   no_voie                    34036 non-null  float64       \n",
      " 4   b/t/q                      2174 non-null   object        \n",
      " 5   code_type_de_voie          34169 non-null  int64         \n",
      " 6   type_de_voie               33229 non-null  object        \n",
      " 7   code_voie                  34169 non-null  object        \n",
      " 8   voie                       34169 non-null  object        \n",
      " 9   code_id_commune            34169 non-null  int64         \n",
      " 10  code_postal                34168 non-null  float64       \n",
      " 11  commune                    34169 non-null  object        \n",
      " 12  code_departement           34169 non-null  object        \n",
      " 13  code_commune               34169 non-null  int64         \n",
      " 14  section                    34168 non-null  object        \n",
      " 15  no_plan                    34169 non-null  int64         \n",
      " 16  no_volume                  0 non-null      float64       \n",
      " 17  1er_lot                    34169 non-null  object        \n",
      " 18  surface_carrez_du_1er_lot  34169 non-null  float64       \n",
      " 19  nombre_de_lots             34169 non-null  int64         \n",
      " 20  code_type_local            34169 non-null  int64         \n",
      " 21  type_local                 34169 non-null  object        \n",
      " 22  surface_reelle_bati        34169 non-null  int64         \n",
      " 23  nombre_pieces_principales  34169 non-null  int64         \n",
      "dtypes: datetime64[ns](1), float64(5), int64(8), object(10)\n",
      "memory usage: 6.5+ MB\n"
     ]
    }
   ],
   "source": [
    "# dataframe summary\n",
    "df.info()"
   ]
  },
  {
   "cell_type": "code",
   "execution_count": 3,
   "id": "f9016d4a-d4ee-4a95-b104-a7309acfc8b4",
   "metadata": {},
   "outputs": [
    {
     "ename": "NameError",
     "evalue": "name 'vente_attr' is not defined",
     "output_type": "error",
     "traceback": [
      "\u001b[1;31m---------------------------------------------------------------------------\u001b[0m",
      "\u001b[1;31mNameError\u001b[0m                                 Traceback (most recent call last)",
      "Input \u001b[1;32mIn [3]\u001b[0m, in \u001b[0;36m<cell line: 3>\u001b[1;34m()\u001b[0m\n\u001b[0;32m      1\u001b[0m \u001b[38;5;66;03m# select all attributs needed in logement_table from df.index\u001b[39;00m\n\u001b[0;32m      2\u001b[0m logement_attr \u001b[38;5;241m=\u001b[39m \u001b[38;5;28mlist\u001b[39m(df\u001b[38;5;241m.\u001b[39mcolumns[[\u001b[38;5;241m3\u001b[39m, \u001b[38;5;241m6\u001b[39m, \u001b[38;5;241m7\u001b[39m, \u001b[38;5;241m8\u001b[39m, \u001b[38;5;241m11\u001b[39m]])\n\u001b[1;32m----> 3\u001b[0m \u001b[38;5;28mprint\u001b[39m(\u001b[38;5;124m\"\u001b[39m\u001b[38;5;124mtable \u001b[39m\u001b[38;5;124m'\u001b[39m\u001b[38;5;124mvente\u001b[39m\u001b[38;5;124m'\u001b[39m\u001b[38;5;124m :\u001b[39m\u001b[38;5;124m\"\u001b[39m, \u001b[38;5;124m\"\u001b[39m\u001b[38;5;130;01m\\n\u001b[39;00m\u001b[38;5;124m\"\u001b[39m, \u001b[43mvente_attr\u001b[49m, \u001b[38;5;124m\"\u001b[39m\u001b[38;5;130;01m\\n\u001b[39;00m\u001b[38;5;124m\"\u001b[39m)\n\u001b[0;32m      5\u001b[0m \u001b[38;5;66;03m# select all attributs needed in vente_table from df.index\u001b[39;00m\n\u001b[0;32m      6\u001b[0m vente_attr \u001b[38;5;241m=\u001b[39m \u001b[38;5;28mlist\u001b[39m(df\u001b[38;5;241m.\u001b[39mcolumns[[\u001b[38;5;241m0\u001b[39m, \u001b[38;5;241m2\u001b[39m, \u001b[38;5;241m18\u001b[39m, \u001b[38;5;241m23\u001b[39m, \u001b[38;5;241m21\u001b[39m, \u001b[38;5;241m9\u001b[39m, \u001b[38;5;241m11\u001b[39m, \u001b[38;5;241m12\u001b[39m]])\n",
      "\u001b[1;31mNameError\u001b[0m: name 'vente_attr' is not defined"
     ]
    }
   ],
   "source": [
    "# select all attributs needed in logement_table from df.index\n",
    "logement_attr = list(df.columns[[3, 6, 7, 8, 11]])\n",
    "print(\"table 'logement' :\", \"\\n\", logement_attr, \"\\n\")\n",
    "\n",
    "# select all attributs needed in vente_table from df.index\n",
    "vente_attr = list(df.columns[[0, 2, 18, 23, 21, 9, 11, 12]])\n",
    "print(\"table 'vente' :\", \"\\n\", vente_attr)"
   ]
  },
  {
   "cell_type": "code",
   "execution_count": null,
   "id": "1887ef16-00a4-4671-b516-1d88d9da719b",
   "metadata": {},
   "outputs": [],
   "source": [
    "# create logement dataframe and drop duplicates to have unique \"logements\" in this table\n",
    "df_logement = df.loc[:, logement_attr]\n",
    "df_logement = df_logement.drop_duplicates().reset_index()\n",
    "df_logement"
   ]
  },
  {
   "cell_type": "code",
   "execution_count": null,
   "id": "39858ab1-e586-404b-b4e4-b2c7dc804964",
   "metadata": {},
   "outputs": [],
   "source": [
    "# create vente dataframe and add vente_id\n",
    "\n",
    "df_vente = df.loc[:, vente_attr]\n",
    "\n",
    "# add foreign_key logement_id to df_vente\n",
    "for i in range(len(df_vente)):\n",
    "    result, = np.where(df_logement[\"commune\"] == df_vente[\"commune\"].loc[i])\n",
    "    df_vente.loc[i, \"logement_id\"] = result[0]\n",
    "del i, result\n",
    "\n",
    "df_vente"
   ]
  },
  {
   "cell_type": "code",
   "execution_count": null,
   "id": "adabfc45-0c76-4acc-989c-6b3d64039631",
   "metadata": {},
   "outputs": [],
   "source": [
    "# add vente_id and logement_id to vente_attr\n",
    "df_vente[\"vente_id\"] = df_vente.index\n",
    "vente_attr.append(\"vente_id\")\n",
    "vente_attr.append(\"logement_id\")\n",
    "\n",
    "# add logement_id to logement_attr\n",
    "df_logement[\"logement_id\"] = df_logement.index\n",
    "logement_attr.append(\"logement_id\")\n",
    "\n",
    "print(\"table 'vente' :\", \"\\n\", vente_attr, \"\\n\")\n",
    "print(\"table 'logement' :\", \"\\n\", logement_attr)"
   ]
  },
  {
   "cell_type": "code",
   "execution_count": null,
   "id": "144d8cc1-c3e7-4d84-841b-b0551b81f772",
   "metadata": {},
   "outputs": [],
   "source": [
    "# connection to database\n",
    "connector = My_db_connector(\"immobilier\")\n",
    "\n",
    "# populate both tables with to_sql() method\n",
    "connector.df_to_sql(df_vente, \"vente\")\n",
    "connector.df_to_sql(df_logement, \"logement\")"
   ]
  },
  {
   "cell_type": "code",
   "execution_count": null,
   "id": "bd166572-ec31-47fa-af2f-57ec9403897c",
   "metadata": {},
   "outputs": [],
   "source": [
    "# display all table from database\n",
    "tables = [\"vente\", \"logement\"]\n",
    "query = \"SELECT * FROM {}\"\n",
    "\n",
    "for table in tables:\n",
    "    result = connector.db_execute_query(query.format(table))\n",
    "    display(result)\n",
    "    \n",
    "print(\"Database 'immobilier' ready to run\")"
   ]
  },
  {
   "cell_type": "code",
   "execution_count": null,
   "id": "f138932d-a130-4302-9fca-a1f167c9000b",
   "metadata": {},
   "outputs": [],
   "source": [
    "# close connection \n",
    "connector.db_close_connection()"
   ]
  },
  {
   "cell_type": "code",
   "execution_count": null,
   "id": "50dab6ef-5ceb-4d6a-a106-95a656bca9cd",
   "metadata": {},
   "outputs": [],
   "source": []
  }
 ],
 "metadata": {
  "kernelspec": {
   "display_name": "Python 3 (ipykernel)",
   "language": "python",
   "name": "python3"
  },
  "language_info": {
   "codemirror_mode": {
    "name": "ipython",
    "version": 3
   },
   "file_extension": ".py",
   "mimetype": "text/x-python",
   "name": "python",
   "nbconvert_exporter": "python",
   "pygments_lexer": "ipython3",
   "version": "3.9.12"
  }
 },
 "nbformat": 4,
 "nbformat_minor": 5
}
