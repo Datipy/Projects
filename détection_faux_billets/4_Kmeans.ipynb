{
 "cells": [
  {
   "cell_type": "code",
   "execution_count": 1,
   "id": "1e6ec917-af01-4922-9526-47f19a6d44f6",
   "metadata": {},
   "outputs": [],
   "source": [
    "# ligne de code pour installe automatiquement la librairie nécessaire aux fonctions intéractives du notebook\n",
    "!conda install ipywidget"
   ]
  },
  {
   "cell_type": "code",
   "execution_count": 2,
   "id": "9bbba210",
   "metadata": {
    "tags": []
   },
   "outputs": [],
   "source": [
    "\"\"\"\n",
    "notebook 4 kmeans :\n",
    "- on réalise un kmeans pour le comparer à la régression logistique\n",
    "- les différents plot montrent des valeurs suspectes dans le clustering qui sont bien visibles\n",
    "avec le TSNE\n",
    "\"\"\"\n",
    "\n",
    "import pandas as pd\n",
    "import numpy as np\n",
    "import seaborn as sns\n",
    "import matplotlib.pyplot as plt\n",
    "from sklearn.cluster import KMeans\n",
    "\n",
    "%store -r data"
   ]
  },
  {
   "cell_type": "code",
   "execution_count": 3,
   "id": "709da784",
   "metadata": {},
   "outputs": [
    {
     "data": {
      "text/html": [
       "<div>\n",
       "<style scoped>\n",
       "    .dataframe tbody tr th:only-of-type {\n",
       "        vertical-align: middle;\n",
       "    }\n",
       "\n",
       "    .dataframe tbody tr th {\n",
       "        vertical-align: top;\n",
       "    }\n",
       "\n",
       "    .dataframe thead th {\n",
       "        text-align: right;\n",
       "    }\n",
       "</style>\n",
       "<table border=\"1\" class=\"dataframe\">\n",
       "  <thead>\n",
       "    <tr style=\"text-align: right;\">\n",
       "      <th></th>\n",
       "      <th>diagonal</th>\n",
       "      <th>height_left</th>\n",
       "      <th>height_right</th>\n",
       "      <th>margin_low</th>\n",
       "      <th>margin_up</th>\n",
       "      <th>length</th>\n",
       "      <th>cluster_id</th>\n",
       "    </tr>\n",
       "  </thead>\n",
       "  <tbody>\n",
       "    <tr>\n",
       "      <th>0</th>\n",
       "      <td>171.81</td>\n",
       "      <td>104.86</td>\n",
       "      <td>104.95</td>\n",
       "      <td>4.520000</td>\n",
       "      <td>2.89</td>\n",
       "      <td>112.83</td>\n",
       "      <td>0</td>\n",
       "    </tr>\n",
       "    <tr>\n",
       "      <th>1</th>\n",
       "      <td>171.46</td>\n",
       "      <td>103.36</td>\n",
       "      <td>103.66</td>\n",
       "      <td>3.770000</td>\n",
       "      <td>2.99</td>\n",
       "      <td>113.09</td>\n",
       "      <td>0</td>\n",
       "    </tr>\n",
       "    <tr>\n",
       "      <th>2</th>\n",
       "      <td>172.69</td>\n",
       "      <td>104.48</td>\n",
       "      <td>103.50</td>\n",
       "      <td>4.400000</td>\n",
       "      <td>2.94</td>\n",
       "      <td>113.16</td>\n",
       "      <td>0</td>\n",
       "    </tr>\n",
       "    <tr>\n",
       "      <th>3</th>\n",
       "      <td>171.36</td>\n",
       "      <td>103.91</td>\n",
       "      <td>103.94</td>\n",
       "      <td>3.620000</td>\n",
       "      <td>3.01</td>\n",
       "      <td>113.51</td>\n",
       "      <td>0</td>\n",
       "    </tr>\n",
       "    <tr>\n",
       "      <th>4</th>\n",
       "      <td>171.73</td>\n",
       "      <td>104.28</td>\n",
       "      <td>103.46</td>\n",
       "      <td>4.040000</td>\n",
       "      <td>3.48</td>\n",
       "      <td>112.54</td>\n",
       "      <td>0</td>\n",
       "    </tr>\n",
       "    <tr>\n",
       "      <th>...</th>\n",
       "      <td>...</td>\n",
       "      <td>...</td>\n",
       "      <td>...</td>\n",
       "      <td>...</td>\n",
       "      <td>...</td>\n",
       "      <td>...</td>\n",
       "      <td>...</td>\n",
       "    </tr>\n",
       "    <tr>\n",
       "      <th>895</th>\n",
       "      <td>171.81</td>\n",
       "      <td>103.68</td>\n",
       "      <td>103.80</td>\n",
       "      <td>4.123536</td>\n",
       "      <td>2.98</td>\n",
       "      <td>113.82</td>\n",
       "      <td>0</td>\n",
       "    </tr>\n",
       "    <tr>\n",
       "      <th>919</th>\n",
       "      <td>171.92</td>\n",
       "      <td>103.68</td>\n",
       "      <td>103.45</td>\n",
       "      <td>4.198423</td>\n",
       "      <td>2.58</td>\n",
       "      <td>113.68</td>\n",
       "      <td>0</td>\n",
       "    </tr>\n",
       "    <tr>\n",
       "      <th>945</th>\n",
       "      <td>172.09</td>\n",
       "      <td>103.74</td>\n",
       "      <td>103.52</td>\n",
       "      <td>4.109623</td>\n",
       "      <td>3.02</td>\n",
       "      <td>112.78</td>\n",
       "      <td>0</td>\n",
       "    </tr>\n",
       "    <tr>\n",
       "      <th>946</th>\n",
       "      <td>171.63</td>\n",
       "      <td>103.87</td>\n",
       "      <td>104.66</td>\n",
       "      <td>4.096960</td>\n",
       "      <td>3.27</td>\n",
       "      <td>112.68</td>\n",
       "      <td>0</td>\n",
       "    </tr>\n",
       "    <tr>\n",
       "      <th>981</th>\n",
       "      <td>172.02</td>\n",
       "      <td>104.23</td>\n",
       "      <td>103.72</td>\n",
       "      <td>4.133841</td>\n",
       "      <td>2.99</td>\n",
       "      <td>113.37</td>\n",
       "      <td>0</td>\n",
       "    </tr>\n",
       "  </tbody>\n",
       "</table>\n",
       "<p>1017 rows × 7 columns</p>\n",
       "</div>"
      ],
      "text/plain": [
       "     diagonal  height_left  height_right  margin_low  margin_up  length  \\\n",
       "0      171.81       104.86        104.95    4.520000       2.89  112.83   \n",
       "1      171.46       103.36        103.66    3.770000       2.99  113.09   \n",
       "2      172.69       104.48        103.50    4.400000       2.94  113.16   \n",
       "3      171.36       103.91        103.94    3.620000       3.01  113.51   \n",
       "4      171.73       104.28        103.46    4.040000       3.48  112.54   \n",
       "..        ...          ...           ...         ...        ...     ...   \n",
       "895    171.81       103.68        103.80    4.123536       2.98  113.82   \n",
       "919    171.92       103.68        103.45    4.198423       2.58  113.68   \n",
       "945    172.09       103.74        103.52    4.109623       3.02  112.78   \n",
       "946    171.63       103.87        104.66    4.096960       3.27  112.68   \n",
       "981    172.02       104.23        103.72    4.133841       2.99  113.37   \n",
       "\n",
       "     cluster_id  \n",
       "0             0  \n",
       "1             0  \n",
       "2             0  \n",
       "3             0  \n",
       "4             0  \n",
       "..          ...  \n",
       "895           0  \n",
       "919           0  \n",
       "945           0  \n",
       "946           0  \n",
       "981           0  \n",
       "\n",
       "[1017 rows x 7 columns]"
      ]
     },
     "metadata": {},
     "output_type": "display_data"
    },
    {
     "data": {
      "text/html": [
       "<div>\n",
       "<style scoped>\n",
       "    .dataframe tbody tr th:only-of-type {\n",
       "        vertical-align: middle;\n",
       "    }\n",
       "\n",
       "    .dataframe tbody tr th {\n",
       "        vertical-align: top;\n",
       "    }\n",
       "\n",
       "    .dataframe thead th {\n",
       "        text-align: right;\n",
       "    }\n",
       "</style>\n",
       "<table border=\"1\" class=\"dataframe\">\n",
       "  <thead>\n",
       "    <tr style=\"text-align: right;\">\n",
       "      <th></th>\n",
       "      <th>diagonal</th>\n",
       "      <th>height_left</th>\n",
       "      <th>height_right</th>\n",
       "      <th>margin_low</th>\n",
       "      <th>margin_up</th>\n",
       "      <th>length</th>\n",
       "      <th>cluster_id</th>\n",
       "    </tr>\n",
       "  </thead>\n",
       "  <tbody>\n",
       "    <tr>\n",
       "      <th>591</th>\n",
       "      <td>171.67</td>\n",
       "      <td>103.81</td>\n",
       "      <td>103.76</td>\n",
       "      <td>4.590000</td>\n",
       "      <td>3.30</td>\n",
       "      <td>112.18</td>\n",
       "      <td>1</td>\n",
       "    </tr>\n",
       "    <tr>\n",
       "      <th>728</th>\n",
       "      <td>171.94</td>\n",
       "      <td>104.11</td>\n",
       "      <td>104.16</td>\n",
       "      <td>4.080000</td>\n",
       "      <td>3.35</td>\n",
       "      <td>111.76</td>\n",
       "      <td>1</td>\n",
       "    </tr>\n",
       "    <tr>\n",
       "      <th>1000</th>\n",
       "      <td>172.28</td>\n",
       "      <td>103.95</td>\n",
       "      <td>103.91</td>\n",
       "      <td>4.780000</td>\n",
       "      <td>3.31</td>\n",
       "      <td>111.40</td>\n",
       "      <td>1</td>\n",
       "    </tr>\n",
       "    <tr>\n",
       "      <th>1001</th>\n",
       "      <td>171.92</td>\n",
       "      <td>103.86</td>\n",
       "      <td>104.30</td>\n",
       "      <td>4.960000</td>\n",
       "      <td>3.13</td>\n",
       "      <td>111.29</td>\n",
       "      <td>1</td>\n",
       "    </tr>\n",
       "    <tr>\n",
       "      <th>1002</th>\n",
       "      <td>171.59</td>\n",
       "      <td>104.14</td>\n",
       "      <td>104.38</td>\n",
       "      <td>4.970000</td>\n",
       "      <td>3.47</td>\n",
       "      <td>111.22</td>\n",
       "      <td>1</td>\n",
       "    </tr>\n",
       "    <tr>\n",
       "      <th>...</th>\n",
       "      <td>...</td>\n",
       "      <td>...</td>\n",
       "      <td>...</td>\n",
       "      <td>...</td>\n",
       "      <td>...</td>\n",
       "      <td>...</td>\n",
       "      <td>...</td>\n",
       "    </tr>\n",
       "    <tr>\n",
       "      <th>1303</th>\n",
       "      <td>172.17</td>\n",
       "      <td>104.49</td>\n",
       "      <td>103.76</td>\n",
       "      <td>5.302069</td>\n",
       "      <td>2.93</td>\n",
       "      <td>111.21</td>\n",
       "      <td>1</td>\n",
       "    </tr>\n",
       "    <tr>\n",
       "      <th>1315</th>\n",
       "      <td>172.08</td>\n",
       "      <td>104.15</td>\n",
       "      <td>104.17</td>\n",
       "      <td>5.200358</td>\n",
       "      <td>3.40</td>\n",
       "      <td>112.29</td>\n",
       "      <td>1</td>\n",
       "    </tr>\n",
       "    <tr>\n",
       "      <th>1347</th>\n",
       "      <td>171.72</td>\n",
       "      <td>104.46</td>\n",
       "      <td>104.12</td>\n",
       "      <td>5.175468</td>\n",
       "      <td>3.61</td>\n",
       "      <td>110.31</td>\n",
       "      <td>1</td>\n",
       "    </tr>\n",
       "    <tr>\n",
       "      <th>1435</th>\n",
       "      <td>172.66</td>\n",
       "      <td>104.33</td>\n",
       "      <td>104.41</td>\n",
       "      <td>5.173450</td>\n",
       "      <td>3.56</td>\n",
       "      <td>111.47</td>\n",
       "      <td>1</td>\n",
       "    </tr>\n",
       "    <tr>\n",
       "      <th>1438</th>\n",
       "      <td>171.90</td>\n",
       "      <td>104.28</td>\n",
       "      <td>104.29</td>\n",
       "      <td>5.246751</td>\n",
       "      <td>3.24</td>\n",
       "      <td>111.49</td>\n",
       "      <td>1</td>\n",
       "    </tr>\n",
       "  </tbody>\n",
       "</table>\n",
       "<p>478 rows × 7 columns</p>\n",
       "</div>"
      ],
      "text/plain": [
       "      diagonal  height_left  height_right  margin_low  margin_up  length  \\\n",
       "591     171.67       103.81        103.76    4.590000       3.30  112.18   \n",
       "728     171.94       104.11        104.16    4.080000       3.35  111.76   \n",
       "1000    172.28       103.95        103.91    4.780000       3.31  111.40   \n",
       "1001    171.92       103.86        104.30    4.960000       3.13  111.29   \n",
       "1002    171.59       104.14        104.38    4.970000       3.47  111.22   \n",
       "...        ...          ...           ...         ...        ...     ...   \n",
       "1303    172.17       104.49        103.76    5.302069       2.93  111.21   \n",
       "1315    172.08       104.15        104.17    5.200358       3.40  112.29   \n",
       "1347    171.72       104.46        104.12    5.175468       3.61  110.31   \n",
       "1435    172.66       104.33        104.41    5.173450       3.56  111.47   \n",
       "1438    171.90       104.28        104.29    5.246751       3.24  111.49   \n",
       "\n",
       "      cluster_id  \n",
       "591            1  \n",
       "728            1  \n",
       "1000           1  \n",
       "1001           1  \n",
       "1002           1  \n",
       "...          ...  \n",
       "1303           1  \n",
       "1315           1  \n",
       "1347           1  \n",
       "1435           1  \n",
       "1438           1  \n",
       "\n",
       "[478 rows x 7 columns]"
      ]
     },
     "metadata": {},
     "output_type": "display_data"
    }
   ],
   "source": [
    "# affichage des billets selon le clustering par kmeans\n",
    "\n",
    "kmeans = KMeans(n_clusters=2).fit(data.iloc[:, 1:])\n",
    "\n",
    "# table sans \"is_genuine\" poru le kmeans\n",
    "table = data.iloc[:, 1:].copy(deep=True)\n",
    "\n",
    "# ajout de la colonne \"cluster_id\" vide à table\n",
    "table.loc[:, 'cluster_id'] = kmeans.labels_\n",
    "\n",
    "# mise en place d’une liste de sauvegarde pour la fonction interactive plus tard\n",
    "test = []\n",
    "\n",
    "# affiche les billets selon leur cluster_id\n",
    "def sort_by_cluster(table=table, cluster_list=set(table.cluster_id)):  \n",
    "    for cluster in cluster_list:\n",
    "        df = table[table[\"cluster_id\"]==cluster]\n",
    "        test.append(df)\n",
    "        display(df)\n",
    "\n",
    "sort_by_cluster(table)"
   ]
  },
  {
   "cell_type": "code",
   "execution_count": 4,
   "id": "cd4faf43",
   "metadata": {},
   "outputs": [
    {
     "name": "stdout",
     "output_type": "stream",
     "text": [
      "ARI = 0.9437384742053976\n"
     ]
    }
   ],
   "source": [
    "from sklearn.metrics import adjusted_rand_score\n",
    "\n",
    "# détermination de l’ARI pour le kmeans\n",
    "ari = adjusted_rand_score(data[\"is_genuine\"], table[\"cluster_id\"])\n",
    "print(\"ARI =\", ari)"
   ]
  },
  {
   "cell_type": "code",
   "execution_count": 5,
   "id": "d51cb6f4",
   "metadata": {},
   "outputs": [
    {
     "data": {
      "application/vnd.jupyter.widget-view+json": {
       "model_id": "9ecaac28b8284aecb246efce9fda2aa9",
       "version_major": 2,
       "version_minor": 0
      },
      "text/plain": [
       "interactive(children=(Dropdown(description='att_1', options=('diagonal', 'height_left', 'height_right', 'margi…"
      ]
     },
     "metadata": {},
     "output_type": "display_data"
    }
   ],
   "source": [
    "from ipywidgets import interact_manual\n",
    "\n",
    "# rassemblement des tables\n",
    "table = pd.concat([test[0], test[1]])\n",
    "\n",
    "# fonction intéractive pour visualiser les clusters selon les variables\n",
    "# les attributs \"length\" & \"margin_low\" permettent de mieux visualiser la séparation\n",
    "@interact_manual\n",
    "def show_data_byætt(att_1=table.columns, att_2=table.columns,):\n",
    "    return sns.scatterplot(x=table[att_1], y=table[att_2], data=table, hue=\"cluster_id\")"
   ]
  },
  {
   "cell_type": "code",
   "execution_count": 6,
   "id": "743f4f84",
   "metadata": {},
   "outputs": [
    {
     "name": "stderr",
     "output_type": "stream",
     "text": [
      "C:\\ProgramData\\Anaconda3\\lib\\site-packages\\sklearn\\manifold\\_t_sne.py:780: FutureWarning: The default initialization in TSNE will change from 'random' to 'pca' in 1.2.\n",
      "  warnings.warn(\n",
      "C:\\ProgramData\\Anaconda3\\lib\\site-packages\\sklearn\\manifold\\_t_sne.py:790: FutureWarning: The default learning rate in TSNE will change from 200.0 to 'auto' in 1.2.\n",
      "  warnings.warn(\n"
     ]
    },
    {
     "name": "stdout",
     "output_type": "stream",
     "text": [
      "[[ 0.15063833  0.22575519  0.26762347  0.57041432  0.13264826 -0.71536865]\n",
      " [-0.26633949 -0.09243125 -0.06648231  0.80148182 -0.0388954   0.52174121]] \n",
      "\n",
      "pca variance ratio = 0.8573790853326111\n"
     ]
    }
   ],
   "source": [
    "from sklearn.decomposition import PCA\n",
    "from sklearn.manifold import TSNE\n",
    "from sklearn.preprocessing import normalize\n",
    "\n",
    "# mise en place de la pca et du TSNE\n",
    "pca = PCA(n_components=2).fit(normalize(data.iloc[:, 1:]))\n",
    "pca_data = pca.transform(normalize(data.iloc[:, 1:]))\n",
    "tsne_data = TSNE(n_components=2).fit_transform(normalize(data.iloc[:, 1:]))\n",
    "\n",
    "print(pca.components_, \"\\n\")\n",
    "print(\"pca variance ratio =\",pca.explained_variance_ratio_.sum())"
   ]
  },
  {
   "cell_type": "code",
   "execution_count": 7,
   "id": "e3470384",
   "metadata": {},
   "outputs": [
    {
     "data": {
      "text/plain": [
       "<matplotlib.collections.PathCollection at 0x1bbd501c340>"
      ]
     },
     "execution_count": 7,
     "metadata": {},
     "output_type": "execute_result"
    },
    {
     "data": {
      "image/png": "[encoded data removed]",
      "text/plain": [
       "<Figure size 432x288 with 1 Axes>"
      ]
     },
     "metadata": {
      "needs_background": "light"
     },
     "output_type": "display_data"
    }
   ],
   "source": [
    "# PCA plot\n",
    "\n",
    "plt.scatter(pca_data[:, 0], pca_data[:, 1], c=data[\"is_genuine\"])"
   ]
  },
  {
   "cell_type": "code",
   "execution_count": 8,
   "id": "60a8ef4d",
   "metadata": {},
   "outputs": [
    {
     "data": {
      "text/plain": [
       "<matplotlib.collections.PathCollection at 0x1bbd5118d60>"
      ]
     },
     "execution_count": 8,
     "metadata": {},
     "output_type": "execute_result"
    },
    {
     "data": {
      "image/png": "[encoded data removed]",
      "text/plain": [
       "<Figure size 432x288 with 1 Axes>"
      ]
     },
     "metadata": {
      "needs_background": "light"
     },
     "output_type": "display_data"
    }
   ],
   "source": [
    "# TSNE plot qui permet de mieux distinguer les clusters que le pca plot\n",
    "# et de voir les billets suspects\n",
    "\n",
    "plt.scatter(tsne_data[:, 0], tsne_data[:, 1], c=data[\"is_genuine\"])"
   ]
  },
  {
   "cell_type": "code",
   "execution_count": null,
   "id": "333baa3d",
   "metadata": {},
   "outputs": [],
   "source": []
  }
 ],
 "metadata": {
  "kernelspec": {
   "display_name": "Python 3 (ipykernel)",
   "language": "python",
   "name": "python3"
  },
  "language_info": {
   "codemirror_mode": {
    "name": "ipython",
    "version": 3
   },
   "file_extension": ".py",
   "mimetype": "text/x-python",
   "name": "python",
   "nbconvert_exporter": "python",
   "pygments_lexer": "ipython3",
   "version": "3.9.12"
  }
 },
 "nbformat": 4,
 "nbformat_minor": 5
}
