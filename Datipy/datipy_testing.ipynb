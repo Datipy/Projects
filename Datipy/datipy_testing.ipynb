{
 "cells": [
  {
   "cell_type": "code",
   "execution_count": 1,
   "id": "131c4471-cbea-4a02-9d09-8b7ba22d5516",
   "metadata": {},
   "outputs": [
    {
     "name": "stdin",
     "output_type": "stream",
     "text": [
      "enter folder’s path : data_folder\n"
     ]
    },
    {
     "data": {
      "text/plain": [
       "{'stats_ecriture': 'df_list[0]', 'table_remuneration': 'df_list[1]'}"
      ]
     },
     "metadata": {},
     "output_type": "display_data"
    },
    {
     "name": "stdout",
     "output_type": "stream",
     "text": [
      "Tasks completed successfully, df_list and df_dict generated\n"
     ]
    }
   ],
   "source": [
    "%run folder_processing.py"
   ]
  },
  {
   "cell_type": "code",
   "execution_count": 2,
   "id": "4ffe4265-5c48-42ad-8ff2-248179ace879",
   "metadata": {},
   "outputs": [
    {
     "data": {
      "application/vnd.jupyter.widget-view+json": {
       "model_id": "587b67248d4143ffa6b3db69060e95bc",
       "version_major": 2,
       "version_minor": 0
      },
      "text/plain": [
       "interactive(children=(Dropdown(description='selected_df', options=('stats_ecriture', 'table_remuneration'), va…"
      ]
     },
     "metadata": {},
     "output_type": "display_data"
    }
   ],
   "source": [
    "from datipy_progress import *\n",
    "\n",
    "display = Display(df_dict, df_list)\n",
    "display.interact()"
   ]
  },
  {
   "cell_type": "code",
   "execution_count": 3,
   "id": "177b43a5-ddc0-4145-b400-979984c3b357",
   "metadata": {},
   "outputs": [
    {
     "data": {
      "text/plain": [
       "['id_salarié',\n",
       " 'Contrat',\n",
       " 'Durée hebdo',\n",
       " 'Salaire base mensuel',\n",
       " '%variable_moyen',\n",
       " 'Augmentation',\n",
       " 'Promotion']"
      ]
     },
     "execution_count": 3,
     "metadata": {},
     "output_type": "execute_result"
    }
   ],
   "source": [
    "list(eval(df_dict[\"table_remuneration\"]).columns)"
   ]
  },
  {
   "cell_type": "code",
   "execution_count": 4,
   "id": "08a4a8ac-4493-4633-9efb-dd25f49967f9",
   "metadata": {},
   "outputs": [
    {
     "name": "stdout",
     "output_type": "stream",
     "text": [
      "Setup a handler to be called when a trait changes.\n",
      "\n",
      "        This is used to setup dynamic notifications of trait changes.\n",
      "\n",
      "        Parameters\n",
      "        ----------\n",
      "        handler : callable\n",
      "            A callable that is called when a trait changes. Its\n",
      "            signature should be ``handler(change)``, where ``change`` is a\n",
      "            dictionary. The change dictionary at least holds a 'type' key.\n",
      "            * ``type``: the type of notification.\n",
      "            Other keys may be passed depending on the value of 'type'. In the\n",
      "            case where type is 'change', we also have the following keys:\n",
      "            * ``owner`` : the HasTraits instance\n",
      "            * ``old`` : the old value of the modified trait attribute\n",
      "            * ``new`` : the new value of the modified trait attribute\n",
      "            * ``name`` : the name of the modified trait attribute.\n",
      "        names : list, str, All\n",
      "            If names is All, the handler will apply to all traits.  If a list\n",
      "            of str, handler will apply to all names in the list.  If a\n",
      "            str, the handler will apply just to that name.\n",
      "        type : str, All (default: 'change')\n",
      "            The type of notification to filter by. If equal to All, then all\n",
      "            notifications are passed to the observe handler.\n",
      "        \n"
     ]
    }
   ],
   "source": [
    "print(widgets.Widget.observe.__doc__)"
   ]
  },
  {
   "cell_type": "code",
   "execution_count": null,
   "id": "7bfc5db2-27ac-4fb4-adeb-9aec2e02068f",
   "metadata": {},
   "outputs": [],
   "source": []
  }
 ],
 "metadata": {
  "kernelspec": {
   "display_name": "Python 3 (ipykernel)",
   "language": "python",
   "name": "python3"
  },
  "language_info": {
   "codemirror_mode": {
    "name": "ipython",
    "version": 3
   },
   "file_extension": ".py",
   "mimetype": "text/x-python",
   "name": "python",
   "nbconvert_exporter": "python",
   "pygments_lexer": "ipython3",
   "version": "3.9.12"
  }
 },
 "nbformat": 4,
 "nbformat_minor": 5
}
