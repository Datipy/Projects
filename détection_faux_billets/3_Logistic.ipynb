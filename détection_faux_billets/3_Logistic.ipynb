{
 "cells": [
  {
   "cell_type": "code",
   "execution_count": 1,
   "id": "da56aca4",
   "metadata": {},
   "outputs": [
    {
     "data": {
      "text/html": [
       "<div>\n",
       "<style scoped>\n",
       "    .dataframe tbody tr th:only-of-type {\n",
       "        vertical-align: middle;\n",
       "    }\n",
       "\n",
       "    .dataframe tbody tr th {\n",
       "        vertical-align: top;\n",
       "    }\n",
       "\n",
       "    .dataframe thead th {\n",
       "        text-align: right;\n",
       "    }\n",
       "</style>\n",
       "<table border=\"1\" class=\"dataframe\">\n",
       "  <thead>\n",
       "    <tr style=\"text-align: right;\">\n",
       "      <th></th>\n",
       "      <th>is_genuine</th>\n",
       "      <th>diagonal</th>\n",
       "      <th>height_left</th>\n",
       "      <th>height_right</th>\n",
       "      <th>margin_low</th>\n",
       "      <th>margin_up</th>\n",
       "      <th>length</th>\n",
       "    </tr>\n",
       "  </thead>\n",
       "  <tbody>\n",
       "    <tr>\n",
       "      <th>0</th>\n",
       "      <td>1</td>\n",
       "      <td>171.81</td>\n",
       "      <td>104.86</td>\n",
       "      <td>104.95</td>\n",
       "      <td>4.520000</td>\n",
       "      <td>2.89</td>\n",
       "      <td>112.83</td>\n",
       "    </tr>\n",
       "    <tr>\n",
       "      <th>1</th>\n",
       "      <td>1</td>\n",
       "      <td>171.46</td>\n",
       "      <td>103.36</td>\n",
       "      <td>103.66</td>\n",
       "      <td>3.770000</td>\n",
       "      <td>2.99</td>\n",
       "      <td>113.09</td>\n",
       "    </tr>\n",
       "    <tr>\n",
       "      <th>2</th>\n",
       "      <td>1</td>\n",
       "      <td>172.69</td>\n",
       "      <td>104.48</td>\n",
       "      <td>103.50</td>\n",
       "      <td>4.400000</td>\n",
       "      <td>2.94</td>\n",
       "      <td>113.16</td>\n",
       "    </tr>\n",
       "    <tr>\n",
       "      <th>3</th>\n",
       "      <td>1</td>\n",
       "      <td>171.36</td>\n",
       "      <td>103.91</td>\n",
       "      <td>103.94</td>\n",
       "      <td>3.620000</td>\n",
       "      <td>3.01</td>\n",
       "      <td>113.51</td>\n",
       "    </tr>\n",
       "    <tr>\n",
       "      <th>4</th>\n",
       "      <td>1</td>\n",
       "      <td>171.73</td>\n",
       "      <td>104.28</td>\n",
       "      <td>103.46</td>\n",
       "      <td>4.040000</td>\n",
       "      <td>3.48</td>\n",
       "      <td>112.54</td>\n",
       "    </tr>\n",
       "    <tr>\n",
       "      <th>...</th>\n",
       "      <td>...</td>\n",
       "      <td>...</td>\n",
       "      <td>...</td>\n",
       "      <td>...</td>\n",
       "      <td>...</td>\n",
       "      <td>...</td>\n",
       "      <td>...</td>\n",
       "    </tr>\n",
       "    <tr>\n",
       "      <th>1303</th>\n",
       "      <td>0</td>\n",
       "      <td>172.17</td>\n",
       "      <td>104.49</td>\n",
       "      <td>103.76</td>\n",
       "      <td>5.302069</td>\n",
       "      <td>2.93</td>\n",
       "      <td>111.21</td>\n",
       "    </tr>\n",
       "    <tr>\n",
       "      <th>1315</th>\n",
       "      <td>0</td>\n",
       "      <td>172.08</td>\n",
       "      <td>104.15</td>\n",
       "      <td>104.17</td>\n",
       "      <td>5.200358</td>\n",
       "      <td>3.40</td>\n",
       "      <td>112.29</td>\n",
       "    </tr>\n",
       "    <tr>\n",
       "      <th>1347</th>\n",
       "      <td>0</td>\n",
       "      <td>171.72</td>\n",
       "      <td>104.46</td>\n",
       "      <td>104.12</td>\n",
       "      <td>5.175468</td>\n",
       "      <td>3.61</td>\n",
       "      <td>110.31</td>\n",
       "    </tr>\n",
       "    <tr>\n",
       "      <th>1435</th>\n",
       "      <td>0</td>\n",
       "      <td>172.66</td>\n",
       "      <td>104.33</td>\n",
       "      <td>104.41</td>\n",
       "      <td>5.173450</td>\n",
       "      <td>3.56</td>\n",
       "      <td>111.47</td>\n",
       "    </tr>\n",
       "    <tr>\n",
       "      <th>1438</th>\n",
       "      <td>0</td>\n",
       "      <td>171.90</td>\n",
       "      <td>104.28</td>\n",
       "      <td>104.29</td>\n",
       "      <td>5.246751</td>\n",
       "      <td>3.24</td>\n",
       "      <td>111.49</td>\n",
       "    </tr>\n",
       "  </tbody>\n",
       "</table>\n",
       "<p>1500 rows × 7 columns</p>\n",
       "</div>"
      ],
      "text/plain": [
       "      is_genuine  diagonal  height_left  height_right  margin_low  margin_up  \\\n",
       "0              1    171.81       104.86        104.95    4.520000       2.89   \n",
       "1              1    171.46       103.36        103.66    3.770000       2.99   \n",
       "2              1    172.69       104.48        103.50    4.400000       2.94   \n",
       "3              1    171.36       103.91        103.94    3.620000       3.01   \n",
       "4              1    171.73       104.28        103.46    4.040000       3.48   \n",
       "...          ...       ...          ...           ...         ...        ...   \n",
       "1303           0    172.17       104.49        103.76    5.302069       2.93   \n",
       "1315           0    172.08       104.15        104.17    5.200358       3.40   \n",
       "1347           0    171.72       104.46        104.12    5.175468       3.61   \n",
       "1435           0    172.66       104.33        104.41    5.173450       3.56   \n",
       "1438           0    171.90       104.28        104.29    5.246751       3.24   \n",
       "\n",
       "      length  \n",
       "0     112.83  \n",
       "1     113.09  \n",
       "2     113.16  \n",
       "3     113.51  \n",
       "4     112.54  \n",
       "...      ...  \n",
       "1303  111.21  \n",
       "1315  112.29  \n",
       "1347  110.31  \n",
       "1435  111.47  \n",
       "1438  111.49  \n",
       "\n",
       "[1500 rows x 7 columns]"
      ]
     },
     "execution_count": 1,
     "metadata": {},
     "output_type": "execute_result"
    }
   ],
   "source": [
    "\"\"\"\n",
    "notebook 3 regression_logistique : \n",
    "- mise en place de la régression logistique et test de celle ci\n",
    "- l’ARI est à comparer avec celui du kmeans par la suite\n",
    "\"\"\"\n",
    "\n",
    "import pandas as pd\n",
    "import numpy as np\n",
    "import seaborn as sns\n",
    "import matplotlib.pyplot as plt\n",
    "from sklearn.linear_model import LogisticRegression\n",
    "from sklearn import preprocessing\n",
    "from sklearn.model_selection import train_test_split\n",
    "from sklearn.metrics import accuracy_score, classification_report, confusion_matrix\n",
    "import statsmodels.api as sm\n",
    "import statsmodels.formula.api as smf\n",
    "\n",
    "%store -r data\n",
    "data"
   ]
  },
  {
   "cell_type": "code",
   "execution_count": 2,
   "id": "080bf8c4",
   "metadata": {},
   "outputs": [
    {
     "name": "stdout",
     "output_type": "stream",
     "text": [
      "char = margin_low~+diagonal+height_left+height_right+margin_up+length \n",
      "\n",
      "                 Generalized Linear Model Regression Results                  \n",
      "==============================================================================\n",
      "Dep. Variable:             margin_low   No. Observations:                 1500\n",
      "Model:                            GLM   Df Residuals:                     1494\n",
      "Model Family:                Binomial   Df Model:                            5\n",
      "Link Function:                  Logit   Scale:                          1.0000\n",
      "Method:                          IRLS   Log-Likelihood:                   -inf\n",
      "Date:                Thu, 29 Sep 2022   Deviance:                   3.9692e+05\n",
      "Time:                        09:56:00   Pearson chi2:                 8.49e+19\n",
      "No. Iterations:                     2   Pseudo R-squ. (CS):                nan\n",
      "Covariance Type:            nonrobust                                         \n",
      "================================================================================\n",
      "                   coef    std err          z      P>|z|      [0.025      0.975]\n",
      "--------------------------------------------------------------------------------\n",
      "Intercept     1.513e+17   1.33e+09   1.14e+08      0.000    1.51e+17    1.51e+17\n",
      "diagonal      -7.54e+14   5.72e+06  -1.32e+08      0.000   -7.54e+14   -7.54e+14\n",
      "height_left   1.259e+15   6.19e+06   2.03e+08      0.000    1.26e+15    1.26e+15\n",
      "height_right  1.717e+15    5.9e+06   2.91e+08      0.000    1.72e+15    1.72e+15\n",
      "margin_up     1.645e+15   8.86e+06   1.86e+08      0.000    1.65e+15    1.65e+15\n",
      "length       -2.765e+15   2.49e+06  -1.11e+09      0.000   -2.77e+15   -2.77e+15\n",
      "================================================================================\n"
     ]
    },
    {
     "name": "stderr",
     "output_type": "stream",
     "text": [
      "C:\\ProgramData\\Anaconda3\\lib\\site-packages\\statsmodels\\genmod\\families\\family.py:1014: RuntimeWarning: invalid value encountered in log\n",
      "  special.gammaln(n - y + 1) + y * np.log(mu / (1 - mu + 1e-20)) +\n",
      "C:\\ProgramData\\Anaconda3\\lib\\site-packages\\statsmodels\\genmod\\families\\family.py:1015: RuntimeWarning: invalid value encountered in log\n",
      "  n * np.log(1 - mu + 1e-20)) * var_weights\n"
     ]
    }
   ],
   "source": [
    "# mise en place regression logistique\n",
    "\n",
    "att = data.columns[1:].drop(\"margin_low\")\n",
    "\n",
    "char = \"margin_low~\"\n",
    "for attr in att:\n",
    "    char += \"+\" + attr\n",
    "    \n",
    "print(\"char =\", char, \"\\n\") \n",
    "\n",
    "reg_log = smf.glm(char, data=data, family=sm.families.Binomial()).fit()\n",
    "print(reg_log.summary())"
   ]
  },
  {
   "cell_type": "code",
   "execution_count": 3,
   "id": "65cbd21e",
   "metadata": {},
   "outputs": [],
   "source": [
    "# entrainement de la regression logistique\n",
    "\n",
    "x = data.iloc[:, 1:]\n",
    "y = data.is_genuine\n",
    "\n",
    "x_train, x_test, y_train, y_test = train_test_split(\n",
    "x, y, test_size=0.33, random_state=5, stratify=y)\n",
    "\n",
    "model = LogisticRegression()\n",
    "model.fit(x_train, y_train)\n",
    "\n",
    "x_test_scaled = x_test#scaler.transform(x_test)\n",
    "y_pred = model.predict(x_test_scaled)\n",
    "\n",
    "yhat = model.predict(x_test)\n",
    "prediction = list(map(round, yhat))"
   ]
  },
  {
   "cell_type": "code",
   "execution_count": 4,
   "id": "23a2eb13",
   "metadata": {},
   "outputs": [
    {
     "name": "stdout",
     "output_type": "stream",
     "text": [
      "Confusion Matrix : \n",
      " [[160   5]\n",
      " [  0 330]]\n",
      "Test accuracy =  0.98989898989899\n"
     ]
    }
   ],
   "source": [
    "# matrice de confusion\n",
    "\n",
    "from sklearn.metrics import (confusion_matrix, \n",
    "                           accuracy_score)\n",
    "\n",
    "cm = confusion_matrix(y_test, prediction) \n",
    "print (\"Confusion Matrix : \\n\", cm) \n",
    "print('Test accuracy = ', accuracy_score(y_test, prediction))"
   ]
  },
  {
   "cell_type": "code",
   "execution_count": 5,
   "id": "c00ef1a1",
   "metadata": {},
   "outputs": [
    {
     "data": {
      "image/png": "[encoded data removed]",
      "text/plain": [
       "<Figure size 864x432 with 2 Axes>"
      ]
     },
     "metadata": {
      "needs_background": "light"
     },
     "output_type": "display_data"
    }
   ],
   "source": [
    "def plot_confusion_matrice():\n",
    "    cm=confusion_matrix(y_test,prediction)\n",
    "    plt.figure(figsize=(12,6))\n",
    "    plt.title(\"Confusion Matrix\")\n",
    "    sns.heatmap(cm, annot=True,fmt='d', cmap='Blues')\n",
    "    plt.ylabel(\"Actual Values\")\n",
    "    plt.xlabel(\"Predicted Values\")\n",
    "    # plt.savefig('confusion_matrix.png')\n",
    "    \n",
    "plot_confusion_matrice()"
   ]
  },
  {
   "cell_type": "code",
   "execution_count": 6,
   "id": "029fa356",
   "metadata": {},
   "outputs": [
    {
     "name": "stdout",
     "output_type": "stream",
     "text": [
      "Sensibility test = 0.9850746268656716\n",
      "Specificity test = 0.9696969696969697\n"
     ]
    }
   ],
   "source": [
    "# sensibilité et spécificité du test\n",
    "# les valeurs sont suspectes mais le jeu de données est super propre\n",
    "\n",
    "print(\"Sensibility test =\", 330/335)\n",
    "print(\"Specificity test =\", 160/165)"
   ]
  },
  {
   "cell_type": "code",
   "execution_count": 7,
   "id": "b20cf165",
   "metadata": {},
   "outputs": [
    {
     "name": "stdout",
     "output_type": "stream",
     "text": [
      "ARI = 0.9572033604345345\n"
     ]
    }
   ],
   "source": [
    "from sklearn.metrics import adjusted_rand_score\n",
    "\n",
    "# ARI à comparer avec celui du Kmeans\n",
    "\n",
    "ari = adjusted_rand_score(data[\"is_genuine\"], model.predict(data.iloc[:, 1:]))\n",
    "print(\"ARI =\", ari)"
   ]
  },
  {
   "cell_type": "code",
   "execution_count": 8,
   "id": "b13c409b",
   "metadata": {},
   "outputs": [
    {
     "name": "stdout",
     "output_type": "stream",
     "text": [
      "Stored 'model' (LogisticRegression)\n"
     ]
    }
   ],
   "source": [
    "# save model\n",
    "\n",
    "%store model"
   ]
  }
 ],
 "metadata": {
  "kernelspec": {
   "display_name": "Python 3 (ipykernel)",
   "language": "python",
   "name": "python3"
  },
  "language_info": {
   "codemirror_mode": {
    "name": "ipython",
    "version": 3
   },
   "file_extension": ".py",
   "mimetype": "text/x-python",
   "name": "python",
   "nbconvert_exporter": "python",
   "pygments_lexer": "ipython3",
   "version": "3.9.12"
  }
 },
 "nbformat": 4,
 "nbformat_minor": 5
}
